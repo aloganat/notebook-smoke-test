{
 "cells": [
  {
   "cell_type": "code",
   "execution_count": 1,
   "id": "demonstrated-wages",
   "metadata": {},
   "outputs": [
    {
     "name": "stdout",
     "output_type": "stream",
     "text": [
      "Requirement already satisfied: watermark in /opt/app-root/lib/python3.6/site-packages (2.0.2)\n",
      "Requirement already satisfied: ipython in /opt/app-root/lib/python3.6/site-packages (from watermark) (7.16.1)\n",
      "Requirement already satisfied: jedi>=0.10 in /opt/app-root/lib/python3.6/site-packages (from ipython->watermark) (0.18.0)\n",
      "Requirement already satisfied: decorator in /opt/app-root/lib/python3.6/site-packages (from ipython->watermark) (4.4.2)\n",
      "Requirement already satisfied: pickleshare in /opt/app-root/lib/python3.6/site-packages (from ipython->watermark) (0.7.5)\n",
      "Requirement already satisfied: pygments in /opt/app-root/lib/python3.6/site-packages (from ipython->watermark) (2.7.4)\n",
      "Requirement already satisfied: pexpect in /opt/app-root/lib/python3.6/site-packages (from ipython->watermark) (4.8.0)\n",
      "Requirement already satisfied: prompt-toolkit!=3.0.0,!=3.0.1,<3.1.0,>=2.0.0 in /opt/app-root/lib/python3.6/site-packages (from ipython->watermark) (3.0.14)\n",
      "Requirement already satisfied: backcall in /opt/app-root/lib/python3.6/site-packages (from ipython->watermark) (0.2.0)\n",
      "Requirement already satisfied: traitlets>=4.2 in /opt/app-root/lib/python3.6/site-packages (from ipython->watermark) (4.3.3)\n",
      "Requirement already satisfied: setuptools>=18.5 in /opt/app-root/lib/python3.6/site-packages (from ipython->watermark) (52.0.0)\n",
      "Requirement already satisfied: parso<0.9.0,>=0.8.0 in /opt/app-root/lib/python3.6/site-packages (from jedi>=0.10->ipython->watermark) (0.8.1)\n",
      "Requirement already satisfied: wcwidth in /opt/app-root/lib/python3.6/site-packages (from prompt-toolkit!=3.0.0,!=3.0.1,<3.1.0,>=2.0.0->ipython->watermark) (0.2.5)\n",
      "Requirement already satisfied: six in /opt/app-root/lib/python3.6/site-packages (from traitlets>=4.2->ipython->watermark) (1.15.0)\n",
      "Requirement already satisfied: ipython-genutils in /opt/app-root/lib/python3.6/site-packages (from traitlets>=4.2->ipython->watermark) (0.2.0)\n",
      "Requirement already satisfied: ptyprocess>=0.5 in /opt/app-root/lib/python3.6/site-packages (from pexpect->ipython->watermark) (0.7.0)\n",
      "\u001b[33mWARNING: You are using pip version 21.0; however, version 21.0.1 is available.\n",
      "You should consider upgrading via the '/opt/app-root/bin/python3.6 -m pip install --upgrade pip' command.\u001b[0m\n"
     ]
    }
   ],
   "source": [
    "!pip install watermark"
   ]
  },
  {
   "cell_type": "code",
   "execution_count": 2,
   "id": "robust-charm",
   "metadata": {},
   "outputs": [],
   "source": [
    "import boto3"
   ]
  },
  {
   "cell_type": "code",
   "execution_count": 3,
   "id": "alpine-worthy",
   "metadata": {},
   "outputs": [],
   "source": [
    "import kafka"
   ]
  },
  {
   "cell_type": "code",
   "execution_count": 4,
   "id": "acute-rocket",
   "metadata": {},
   "outputs": [],
   "source": [
    "import pandas"
   ]
  },
  {
   "cell_type": "code",
   "execution_count": 5,
   "id": "executive-civilization",
   "metadata": {},
   "outputs": [],
   "source": [
    "import matplotlib"
   ]
  },
  {
   "cell_type": "code",
   "execution_count": 6,
   "id": "silver-weather",
   "metadata": {},
   "outputs": [],
   "source": [
    "import numpy"
   ]
  },
  {
   "cell_type": "code",
   "execution_count": 7,
   "id": "wooden-cinema",
   "metadata": {},
   "outputs": [],
   "source": [
    "import scipy"
   ]
  },
  {
   "cell_type": "code",
   "execution_count": 8,
   "id": "higher-karen",
   "metadata": {},
   "outputs": [],
   "source": [
    "import watermark\n"
   ]
  },
  {
   "cell_type": "code",
   "execution_count": 9,
   "id": "descending-legislation",
   "metadata": {},
   "outputs": [],
   "source": [
    "%load_ext watermark"
   ]
  },
  {
   "cell_type": "code",
   "execution_count": 10,
   "id": "informational-mustang",
   "metadata": {},
   "outputs": [
    {
     "name": "stdout",
     "output_type": "stream",
     "text": [
      "2021-02-24T21:31:38+00:00\n",
      "\n",
      "CPython 3.6.8\n",
      "IPython 7.16.1\n",
      "\n",
      "compiler   : GCC 8.3.1 20191121 (Red Hat 8.3.1-5)\n",
      "system     : Linux\n",
      "release    : 4.18.0-193.41.1.el8_2.x86_64\n",
      "machine    : x86_64\n",
      "processor  : x86_64\n",
      "CPU cores  : 16\n",
      "interpreter: 64bit\n"
     ]
    }
   ],
   "source": [
    "%watermark"
   ]
  },
  {
   "cell_type": "code",
   "execution_count": 11,
   "id": "framed-supervision",
   "metadata": {},
   "outputs": [
    {
     "name": "stdout",
     "output_type": "stream",
     "text": [
      "boto3      1.17.14\n",
      "kafka      2.0.2\n",
      "pandas     1.1.5\n",
      "matplotlib 3.3.4\n",
      "scipy      1.5.4\n",
      "watermark  2.0.2\n",
      "numpy      1.19.5\n",
      "\n"
     ]
    }
   ],
   "source": [
    "%watermark --iversions"
   ]
  },
  {
   "cell_type": "code",
   "execution_count": null,
   "id": "loving-server",
   "metadata": {},
   "outputs": [],
   "source": []
  }
 ],
 "metadata": {
  "kernelspec": {
   "display_name": "Python 3",
   "language": "python",
   "name": "python3"
  },
  "language_info": {
   "codemirror_mode": {
    "name": "ipython",
    "version": 3
   },
   "file_extension": ".py",
   "mimetype": "text/x-python",
   "name": "python",
   "nbconvert_exporter": "python",
   "pygments_lexer": "ipython3",
   "version": "3.6.8"
  }
 },
 "nbformat": 4,
 "nbformat_minor": 5
}
